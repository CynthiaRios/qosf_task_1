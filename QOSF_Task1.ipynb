{
 "cells": [
  {
   "cell_type": "markdown",
   "id": "e18b23cc",
   "metadata": {},
   "source": [
    "# Task 1 \n",
    "### Returns a quantum state which is a superposition of indices of the target solution, obtaining in the output the indices of the inputs where two adjacent bits will always have different values. "
   ]
  },
  {
   "cell_type": "code",
   "execution_count": 1,
   "id": "47a13f4a",
   "metadata": {},
   "outputs": [],
   "source": [
    "import math\n",
    "import numpy as np\n",
    "from qiskit import Aer, assemble, QuantumCircuit\n",
    "#! pip install git+https://github.com/qiskit-community/qiskit-textbook.git#subdirectory=qiskit-textbook-src\n",
    "from qiskit_textbook.tools import array_to_latex"
   ]
  },
  {
   "cell_type": "code",
   "execution_count": 2,
   "id": "7ac32f49",
   "metadata": {
    "scrolled": true
   },
   "outputs": [],
   "source": [
    "# will check if adjacent bits are different\n",
    "def adj_check(n):\n",
    "    # formatting accounts for: int to binary and filling in leading zeroes \n",
    "    if bin(n)[2:].zfill(4).count('1') != bin(n)[2:].zfill(4).count('0'): \n",
    "        return False\n",
    "    else: \n",
    "        return (n & n << 1) == 0"
   ]
  },
  {
   "cell_type": "code",
   "execution_count": 3,
   "id": "39ea0ee7",
   "metadata": {},
   "outputs": [],
   "source": [
    "# input: array of a vector of integers (assume integers n, 15<n<0)\n",
    "def task_1(vector):\n",
    "    # indices will store values of 1 where adjacent bits are different\n",
    "    indices = [0]*len(vector)\n",
    "    for i in range(len(vector)):\n",
    "        # pass values to a binary representation and find vectors where adjacent bits are different \n",
    "        if(adj_check(vector[i])): \n",
    "            indices[i] = 1\n",
    "    # find qubits needed for a circuit, 2^n states can be shown, so log2(len(vector)) should be sufficient\n",
    "    num_qubits = math.ceil(math.log2(len(vector)))\n",
    "    # normalize\n",
    "    initial_state = indices/np.linalg.norm(indices)\n",
    "    # create quantum circuit\n",
    "    qc = QuantumCircuit(num_qubits,num_qubits)\n",
    "    # initialize quantum states\n",
    "    qc.initialize(initial_state, [0, 1])  \n",
    "    return qc\n",
    "\n",
    "qc = task_1([1,5,7,10])"
   ]
  },
  {
   "cell_type": "code",
   "execution_count": 4,
   "id": "5dd7e043",
   "metadata": {
    "scrolled": true
   },
   "outputs": [
    {
     "data": {
      "text/html": [
       "<pre style=\"word-wrap: normal;white-space: pre;background: #fff0;line-height: 1.1;font-family: &quot;Courier New&quot;,Courier,monospace\">     ┌──────────────────────────────────┐\n",
       "q_0: ┤0                                 ├\n",
       "     │  initialize(0,0.70711,0,0.70711) │\n",
       "q_1: ┤1                                 ├\n",
       "     └──────────────────────────────────┘\n",
       "c: 2/════════════════════════════════════\n",
       "                                         </pre>"
      ],
      "text/plain": [
       "     ┌──────────────────────────────────┐\n",
       "q_0: ┤0                                 ├\n",
       "     │  initialize(0,0.70711,0,0.70711) │\n",
       "q_1: ┤1                                 ├\n",
       "     └──────────────────────────────────┘\n",
       "c: 2/════════════════════════════════════\n",
       "                                         "
      ]
     },
     "execution_count": 4,
     "metadata": {},
     "output_type": "execute_result"
    }
   ],
   "source": [
    "qc.draw()"
   ]
  },
  {
   "cell_type": "code",
   "execution_count": 5,
   "id": "14fc4af7",
   "metadata": {},
   "outputs": [
    {
     "data": {
      "text/latex": [
       "$\\displaystyle \n",
       "\\begin{bmatrix}\n",
       "0 \\\\\n",
       "\\tfrac{1}{\\sqrt{2}} \\\\\n",
       "0 \\\\\n",
       "\\tfrac{1}{\\sqrt{2}}\n",
       "\\end{bmatrix}\n",
       "$"
      ],
      "text/plain": [
       "<IPython.core.display.Math object>"
      ]
     },
     "metadata": {},
     "output_type": "display_data"
    }
   ],
   "source": [
    "# CODE FROM QISKIT TEXTBOOK: To print statevector\n",
    "# Let's see the result:\n",
    "svsim = Aer.get_backend('aer_simulator')\n",
    "# Let's get the result:\n",
    "qc.save_statevector()\n",
    "qobj = assemble(qc)\n",
    "result = svsim.run(qobj).result()\n",
    "# Print the statevector neatly:\n",
    "final_state = result.get_statevector()\n",
    "array_to_latex(final_state)"
   ]
  },
  {
   "cell_type": "markdown",
   "id": "dc00b287",
   "metadata": {},
   "source": [
    "###### QOSF Application, Cynthia Rios"
   ]
  }
 ],
 "metadata": {
  "kernelspec": {
   "display_name": "Python (qiskit)",
   "language": "python",
   "name": "qiskit"
  },
  "language_info": {
   "codemirror_mode": {
    "name": "ipython",
    "version": 3
   },
   "file_extension": ".py",
   "mimetype": "text/x-python",
   "name": "python",
   "nbconvert_exporter": "python",
   "pygments_lexer": "ipython3",
   "version": "3.9.4"
  }
 },
 "nbformat": 4,
 "nbformat_minor": 5
}
